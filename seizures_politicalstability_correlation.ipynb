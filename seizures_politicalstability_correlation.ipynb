{
 "cells": [
  {
   "cell_type": "code",
   "execution_count": 1,
   "metadata": {},
   "outputs": [],
   "source": [
    "import pandas as pd\n",
    "import matplotlib.pyplot as plt\n",
    "import numpy as np"
   ]
  },
  {
   "cell_type": "code",
   "execution_count": 41,
   "metadata": {},
   "outputs": [],
   "source": [
    "#save values in lists\n",
    "stability = [-2.75, -1.14, -0.6, -0.86, 0.57, -1.42, -0.74, -0.83, -0.53, -1.55, -0.29, 0.8, 0.87, -0.5, -2.38, -2.91, -0.99, -2, 0.44]\n",
    "seizure = [454986.99, 109575.66, 79.19, 40292.68, 388.02, 250760.53, 677868.00, 15610.36, 23168.47, 12806.73, 534847.61, 10547.49, 11416.40, 60516.96, 70270.13, 1902.38, 7673.45, 160904.86, 7050.27]\n",
    "country = [\"Afghanistan\",\n",
    "\"Algeria\",\n",
    "\"Armenia\",\n",
    "\"Bahrain\",\n",
    "\"Cyprus\",\n",
    "\"Egypt, Arab Rep.\",\n",
    "\"Iran, Islamic Rep.\",\n",
    "\"Israel\",\n",
    "\"Jordan\",\n",
    "\"Lebanon\",\n",
    "\"Morocco\",\n",
    "\"Oman\",\n",
    "\"Qatar\",\n",
    "\"Saudi Arabia\",\n",
    "\"Sudan\",\n",
    "\"Syrian Arab Republic\",\n",
    "\"Tunisia\",\n",
    "\"Turkey\",\n",
    "\"United Arab Emirates\"]\n",
    "#np_stability = np.array(stability)\n",
    "#np_seizure = np.array(seizure)"
   ]
  },
  {
   "cell_type": "code",
   "execution_count": null,
   "metadata": {},
   "outputs": [],
   "source": [
    "#color condition\n",
    "col = [\"red\", \"blue\"]\n",
    "\n",
    "col = []\n",
    "for value in stability: # keys are the names of the boys\n",
    "    if value > 0:\n",
    "        col.append('blue')\n",
    "    else:\n",
    "        col.append('red')"
   ]
  },
  {
   "cell_type": "code",
   "execution_count": 75,
   "metadata": {},
   "outputs": [
    {
     "name": "stdout",
     "output_type": "stream",
     "text": [
      "0.57\n",
      "0.8\n",
      "0.87\n",
      "0.44\n"
     ]
    }
   ],
   "source": [
    "#finding out countries with stability index > 0\n",
    "new = []\n",
    "for x in stability: # keys are the names of the boys\n",
    "    if x > 0:\n",
    "        print(x)\n",
    "    "
   ]
  },
  {
   "cell_type": "code",
   "execution_count": 50,
   "metadata": {},
   "outputs": [
    {
     "data": {
      "text/plain": [
       "4"
      ]
     },
     "execution_count": 50,
     "metadata": {},
     "output_type": "execute_result"
    }
   ],
   "source": [
    "stability.index(0.57)"
   ]
  },
  {
   "cell_type": "code",
   "execution_count": 51,
   "metadata": {},
   "outputs": [
    {
     "data": {
      "text/plain": [
       "11"
      ]
     },
     "execution_count": 51,
     "metadata": {},
     "output_type": "execute_result"
    }
   ],
   "source": [
    "stability.index(0.8)"
   ]
  },
  {
   "cell_type": "code",
   "execution_count": 52,
   "metadata": {},
   "outputs": [
    {
     "data": {
      "text/plain": [
       "12"
      ]
     },
     "execution_count": 52,
     "metadata": {},
     "output_type": "execute_result"
    }
   ],
   "source": [
    "stability.index(0.87)"
   ]
  },
  {
   "cell_type": "code",
   "execution_count": 53,
   "metadata": {},
   "outputs": [
    {
     "data": {
      "text/plain": [
       "18"
      ]
     },
     "execution_count": 53,
     "metadata": {},
     "output_type": "execute_result"
    }
   ],
   "source": [
    "stability.index(0.44)"
   ]
  },
  {
   "cell_type": "code",
   "execution_count": 71,
   "metadata": {},
   "outputs": [
    {
     "data": {
      "text/plain": [
       "388.02"
      ]
     },
     "execution_count": 71,
     "metadata": {},
     "output_type": "execute_result"
    }
   ],
   "source": [
    "seizure[4]"
   ]
  },
  {
   "cell_type": "code",
   "execution_count": 84,
   "metadata": {},
   "outputs": [
    {
     "data": {
      "image/png": "[encoded data removed]",
      "text/plain": [
       "<Figure size 432x288 with 1 Axes>"
      ]
     },
     "metadata": {},
     "output_type": "display_data"
    }
   ],
   "source": [
    "#set scatter plot\n",
    "plt.scatter(seizure, stability, c= col, s=np.array(seizure)/1000)\n",
    "plt.xscale('log')\n",
    "\n",
    "#set axes' strings\n",
    "xlab = 'Drug Seized [in Kg]'\n",
    "ylab = 'Political Stability Index [2016]'\n",
    "\n",
    "plt.xlabel(xlab)\n",
    "plt.ylabel(ylab)\n",
    "\n",
    "#set grid\n",
    "plt.grid(True)\n",
    "\n",
    "#text\n",
    "plt.text(454986.99, -2.75, \"Afghanistan\")\n",
    "plt.text(388.02, 0.57, \"Cyprus\")\n",
    "plt.text(10547.49, 0.8, \"Oman\")\n",
    "plt.text(11416.4, 0.87, \"Qatar\")\n",
    "plt.text(7050.27, 0.44, \"United Arab Emirates\")\n",
    "plt.show()"
   ]
  },
  {
   "cell_type": "code",
   "execution_count": null,
   "metadata": {},
   "outputs": [],
   "source": []
  }
 ],
 "metadata": {
  "kernelspec": {
   "display_name": "Python 2",
   "language": "python",
   "name": "python2"
  },
  "language_info": {
   "codemirror_mode": {
    "name": "ipython",
    "version": 2
   },
   "file_extension": ".py",
   "mimetype": "text/x-python",
   "name": "python",
   "nbconvert_exporter": "python",
   "pygments_lexer": "ipython2",
   "version": "2.7.14"
  }
 },
 "nbformat": 4,
 "nbformat_minor": 2
}
