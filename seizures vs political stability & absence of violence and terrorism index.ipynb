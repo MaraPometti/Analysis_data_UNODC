{
 "cells": [
  {
   "cell_type": "code",
   "execution_count": 1,
   "metadata": {},
   "outputs": [],
   "source": [
    "import pandas as pd\n",
    "import matplotlib.pyplot as plt\n",
    "import numpy as np"
   ]
  },
  {
   "cell_type": "code",
   "execution_count": 102,
   "metadata": {},
   "outputs": [],
   "source": [
    "#save values in lists\n",
    "stability = [-2.75, -1.14, -0.6, -0.86, 0.57, -1.42, -0.74, -0.83, -0.53, -1.55, -0.29, 0.8, 0.87, -0.5, -2.38, -2.91, -0.99, -2, 0.44]\n",
    "seizure = [454986.99, 109575.66, 79.19, 40292.68, 388.02, 250760.53, 677868.00, 15610.36, 23168.47, 12806.73, 534847.61, 10547.49, 11416.40, 60516.96, 70270.13, 1902.38, 7673.45, 160904.86, 7050.27]\n",
    "country = [\"Afghanistan\",\n",
    "\"Algeria\",\n",
    "\"Armenia\",\n",
    "\"Bahrain\",\n",
    "\"Cyprus\",\n",
    "\"Egypt, Arab Rep.\",\n",
    "\"Iran, Islamic Rep.\",\n",
    "\"Israel\",\n",
    "\"Jordan\",\n",
    "\"Lebanon\",\n",
    "\"Morocco\",\n",
    "\"Oman\",\n",
    "\"Qatar\",\n",
    "\"Saudi Arabia\",\n",
    "\"Sudan\",\n",
    "\"Syrian Arab Republic\",\n",
    "\"Tunisia\",\n",
    "\"Turkey\",\n",
    "\"United Arab Emirates\"]\n",
    "#np_stability = np.array(stability)\n",
    "#np_seizure = np.array(seizure)"
   ]
  },
  {
   "cell_type": "code",
   "execution_count": 103,
   "metadata": {},
   "outputs": [],
   "source": [
    "#np_seizures = np.array(seizure)\n",
    "\n",
    "#seizure.sort(reverse=True)\n",
    "#print(seizure)"
   ]
  },
  {
   "cell_type": "code",
   "execution_count": 104,
   "metadata": {},
   "outputs": [],
   "source": [
    "#stability.sort(reverse=True)\n",
    "#print(stability)"
   ]
  },
  {
   "cell_type": "code",
   "execution_count": 124,
   "metadata": {},
   "outputs": [
    {
     "name": "stdout",
     "output_type": "stream",
     "text": [
      "[0.57, 0.8, 0.87, 0.44]\n"
     ]
    }
   ],
   "source": [
    "#finding out safe countries with political stability index > 0\n",
    "stable = []\n",
    "for x in stability: # keys are the names of the boys\n",
    "    if x > 0:\n",
    "        stable.append(x)\n",
    "print(stable)\n",
    "    "
   ]
  },
  {
   "cell_type": "code",
   "execution_count": 123,
   "metadata": {},
   "outputs": [
    {
     "name": "stdout",
     "output_type": "stream",
     "text": [
      "[-2.75, -1.14, -0.6, -0.86, -1.42, -0.74, -0.83, -0.53, -1.55, -0.29, -0.5, -2.38, -2.91, -0.99, -2]\n"
     ]
    }
   ],
   "source": [
    "#finding out risky countries with political stability index <= 0\n",
    "unstable = []\n",
    "for x in stability: # keys are the names of the boys\n",
    "    if x < 0:\n",
    "        unstable.append(x)\n",
    "print(unstable)"
   ]
  },
  {
   "cell_type": "code",
   "execution_count": 125,
   "metadata": {},
   "outputs": [],
   "source": [
    "#color condition\n",
    "col = [\"red\", \"blue\"]\n",
    "\n",
    "col = []\n",
    "for value in stability: # keys are the names of the boys\n",
    "    if value > 0:\n",
    "        col.append('blue')\n",
    "    else:\n",
    "        col.append('red')"
   ]
  },
  {
   "cell_type": "code",
   "execution_count": 126,
   "metadata": {},
   "outputs": [
    {
     "data": {
      "image/png": "[encoded data removed]",
      "text/plain": [
       "<Figure size 432x288 with 1 Axes>"
      ]
     },
     "metadata": {},
     "output_type": "display_data"
    }
   ],
   "source": [
    "#set scatter plot\n",
    "plt.scatter(seizure, stability, c= col, s=np.array(seizure)/1000)\n",
    "plt.xscale('log')\n",
    "\n",
    "#set axes' strings\n",
    "xlab = 'Kg of drug seized [2016]'\n",
    "ylab = 'political stability & absence of violence and terrorism [2016]'\n",
    "\n",
    "plt.xlabel(xlab)\n",
    "plt.ylabel(ylab)\n",
    "\n",
    "#set grid\n",
    "plt.grid(True)\n",
    "\n",
    "#text labels\n",
    "plt.text(454986.99, -2.75, \"Afghanistan\")\n",
    "plt.text(388.02, 0.57, \"Cyprus\")\n",
    "plt.text(10547.49, 0.8, \"Oman\")\n",
    "plt.text(11416.4, 0.87, \"Qatar\")\n",
    "plt.text(677868.00, -0.74, \"Iran\")\n",
    "plt.text(7050.27, 0.44, \"United Arab Emirates\")\n",
    "plt.show()"
   ]
  },
  {
   "cell_type": "code",
   "execution_count": null,
   "metadata": {},
   "outputs": [],
   "source": []
  }
 ],
 "metadata": {
  "kernelspec": {
   "display_name": "Python 2",
   "language": "python",
   "name": "python2"
  },
  "language_info": {
   "codemirror_mode": {
    "name": "ipython",
    "version": 2
   },
   "file_extension": ".py",
   "mimetype": "text/x-python",
   "name": "python",
   "nbconvert_exporter": "python",
   "pygments_lexer": "ipython2",
   "version": "2.7.14"
  }
 },
 "nbformat": 4,
 "nbformat_minor": 2
}
