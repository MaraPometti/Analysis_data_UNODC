{
 "cells": [
  {
   "cell_type": "code",
   "execution_count": 1,
   "metadata": {},
   "outputs": [],
   "source": [
    "import pandas as pd\n",
    "import matplotlib.pyplot as plt\n",
    "import numpy as np"
   ]
  },
  {
   "cell_type": "code",
   "execution_count": 22,
   "metadata": {},
   "outputs": [],
   "source": [
    "stability = [-2.75, -1.14, -0.6, -0.86, 0.57, -1.42, -0.74, -0.83, -0.53, -1.55, -0.29, 0.8, 0.87, -0.5, -2.38, -2.91, -0.99, -2, 0.44]\n",
    "seizure = [454986.99, 109575.66, 79.19, 40292.68, 388.02, 250760.53, 677868.00, 15610.36, 23168.47, 12806.73, 534847.61, 10547.49, 11416.40, 60516.96, 70270.13, 1902.38, 7673.45, 160904.86, 7050.27]\n",
    "country = [\"Afghanistan\",\n",
    "\"Algeria\",\n",
    "\"Armenia\",\n",
    "\"Bahrain\",\n",
    "\"Cyprus\",\n",
    "\"Egypt, Arab Rep.\",\n",
    "\"Iran, Islamic Rep.\",\n",
    "\"Israel\",\n",
    "\"Jordan\",\n",
    "\"Lebanon\",\n",
    "\"Morocco\",\n",
    "\"Oman\",\n",
    "\"Qatar\",\n",
    "\"Saudi Arabia\",\n",
    "\"Sudan\",\n",
    "\"Syrian Arab Republic\",\n",
    "\"Tunisia\",\n",
    "\"Turkey\",\n",
    "\"United Arab Emirates\"]\n",
    "\n",
    "col = [\"red\", \"blue\"]"
   ]
  },
  {
   "cell_type": "code",
   "execution_count": 23,
   "metadata": {},
   "outputs": [],
   "source": [
    "#np_stability = np.array(stability)\n",
    "#np_seizure = np.array(seizure)"
   ]
  },
  {
   "cell_type": "code",
   "execution_count": 24,
   "metadata": {},
   "outputs": [
    {
     "data": {
      "image/png": "[encoded data removed]",
      "text/plain": [
       "<Figure size 432x288 with 1 Axes>"
      ]
     },
     "metadata": {},
     "output_type": "display_data"
    }
   ],
   "source": [
    "plt.scatter(seizure, stability, c= col)\n",
    "plt.xscale('log')\n",
    "\n",
    "xlab = 'Drug Seized [in Kg]'\n",
    "ylab = 'Political Stability Index [2016]'\n",
    "\n",
    "plt.xlabel(xlab)\n",
    "plt.ylabel(ylab)\n",
    "\n",
    "plt.grid(True)\n",
    "\n",
    "plt.text(454986.99, -2.75, \"Afghanistan\")\n",
    "\n",
    "plt.show()"
   ]
  },
  {
   "cell_type": "code",
   "execution_count": null,
   "metadata": {},
   "outputs": [],
   "source": []
  }
 ],
 "metadata": {
  "kernelspec": {
   "display_name": "Python 2",
   "language": "python",
   "name": "python2"
  },
  "language_info": {
   "codemirror_mode": {
    "name": "ipython",
    "version": 2
   },
   "file_extension": ".py",
   "mimetype": "text/x-python",
   "name": "python",
   "nbconvert_exporter": "python",
   "pygments_lexer": "ipython2",
   "version": "2.7.14"
  }
 },
 "nbformat": 4,
 "nbformat_minor": 2
}
